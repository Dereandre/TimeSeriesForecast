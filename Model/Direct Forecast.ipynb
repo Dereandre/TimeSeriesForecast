{
 "cells": [
  {
   "cell_type": "markdown",
   "metadata": {
    "id": "tb7jIetVdcD-"
   },
   "source": [
    "# AN2DL - Second Challenge"
   ]
  },
  {
   "cell_type": "markdown",
   "metadata": {
    "id": "TNfTbUgCdcEB"
   },
   "source": [
    "## Initial Operations"
   ]
  },
  {
   "cell_type": "markdown",
   "metadata": {
    "id": "jGo6XWkRdcEC"
   },
   "source": [
    "### Import the libraries"
   ]
  },
  {
   "cell_type": "code",
   "execution_count": null,
   "metadata": {
    "_cell_guid": "58b5be80-fbd6-4bb4-b023-b36ca0cf0c94",
    "_uuid": "45ccbb4f-78f7-4db5-ba6b-ae04090a2caf",
    "execution": {
     "iopub.execute_input": "2021-12-14T10:22:13.109255Z",
     "iopub.status.busy": "2021-12-14T10:22:13.108362Z",
     "iopub.status.idle": "2021-12-14T10:22:20.267145Z",
     "shell.execute_reply": "2021-12-14T10:22:20.266213Z",
     "shell.execute_reply.started": "2021-12-14T10:22:13.109154Z"
    },
    "id": "HdpjL0fddcED",
    "jupyter": {
     "outputs_hidden": false
    }
   },
   "outputs": [],
   "source": [
    "import tensorflow as tf\n",
    "import numpy as np\n",
    "import os\n",
    "import random\n",
    "import pandas as pd\n",
    "import seaborn as sns\n",
    "from datetime import datetime\n",
    "import matplotlib.pyplot as plt\n",
    "plt.rc('font', size=16)\n",
    "from sklearn.preprocessing import MinMaxScaler\n",
    "import warnings\n",
    "warnings.filterwarnings('ignore')\n",
    "tf.get_logger().setLevel('ERROR')\n",
    "\n",
    "tfk = tf.keras\n",
    "tfkl = tf.keras.layers"
   ]
  },
  {
   "cell_type": "markdown",
   "metadata": {
    "id": "UY8KpAX8dcEF"
   },
   "source": [
    "### Set seed for reproducibility"
   ]
  },
  {
   "cell_type": "code",
   "execution_count": null,
   "metadata": {
    "execution": {
     "iopub.execute_input": "2021-12-14T10:24:12.942558Z",
     "iopub.status.busy": "2021-12-14T10:24:12.942241Z",
     "iopub.status.idle": "2021-12-14T10:24:12.948677Z",
     "shell.execute_reply": "2021-12-14T10:24:12.948Z",
     "shell.execute_reply.started": "2021-12-14T10:24:12.942524Z"
    },
    "id": "er5xUAYzdcEF"
   },
   "outputs": [],
   "source": [
    "seed = 69\n",
    "random.seed(seed)\n",
    "os.environ['PYTHONHASHSEED'] = str(seed)\n",
    "np.random.seed(seed)\n",
    "tf.random.set_seed(seed)\n",
    "tf.compat.v1.set_random_seed(seed)"
   ]
  },
  {
   "cell_type": "markdown",
   "metadata": {
    "id": "foe6HItgdcEG"
   },
   "source": [
    "### Load the dataset"
   ]
  },
  {
   "cell_type": "code",
   "execution_count": null,
   "metadata": {
    "colab": {
     "base_uri": "https://localhost:8080/",
     "height": 225
    },
    "execution": {
     "iopub.execute_input": "2021-12-14T10:25:48.449528Z",
     "iopub.status.busy": "2021-12-14T10:25:48.448823Z",
     "iopub.status.idle": "2021-12-14T10:25:48.688691Z",
     "shell.execute_reply": "2021-12-14T10:25:48.687699Z",
     "shell.execute_reply.started": "2021-12-14T10:25:48.449481Z"
    },
    "executionInfo": {
     "elapsed": 615,
     "status": "ok",
     "timestamp": 1639563910437,
     "user": {
      "displayName": "Michele Russo",
      "photoUrl": "https://lh3.googleusercontent.com/a-/AOh14GhyAOV7v4rD3SsSLhmGKIAPUCp5S_U_b_Max0XoRw=s64",
      "userId": "05058015320206708993"
     },
     "user_tz": -60
    },
    "id": "0VXOPueFdcEG",
    "outputId": "015b83ee-de13-4eae-a6b7-b48d14eb770c"
   },
   "outputs": [
    {
     "name": "stdout",
     "output_type": "stream",
     "text": [
      "(68528, 7)\n"
     ]
    },
    {
     "data": {
      "text/html": [
       "<div>\n",
       "<style scoped>\n",
       "    .dataframe tbody tr th:only-of-type {\n",
       "        vertical-align: middle;\n",
       "    }\n",
       "\n",
       "    .dataframe tbody tr th {\n",
       "        vertical-align: top;\n",
       "    }\n",
       "\n",
       "    .dataframe thead th {\n",
       "        text-align: right;\n",
       "    }\n",
       "</style>\n",
       "<table border=\"1\" class=\"dataframe\">\n",
       "  <thead>\n",
       "    <tr style=\"text-align: right;\">\n",
       "      <th></th>\n",
       "      <th>Sponginess</th>\n",
       "      <th>Wonder level</th>\n",
       "      <th>Crunchiness</th>\n",
       "      <th>Loudness on impact</th>\n",
       "      <th>Meme creativity</th>\n",
       "      <th>Soap slipperiness</th>\n",
       "      <th>Hype root</th>\n",
       "    </tr>\n",
       "  </thead>\n",
       "  <tbody>\n",
       "    <tr>\n",
       "      <th>0</th>\n",
       "      <td>7.97698</td>\n",
       "      <td>4.33494</td>\n",
       "      <td>10.67282</td>\n",
       "      <td>1.76692</td>\n",
       "      <td>3.22440</td>\n",
       "      <td>51.681460</td>\n",
       "      <td>3.65434</td>\n",
       "    </tr>\n",
       "    <tr>\n",
       "      <th>1</th>\n",
       "      <td>8.07824</td>\n",
       "      <td>4.44616</td>\n",
       "      <td>10.56160</td>\n",
       "      <td>1.70716</td>\n",
       "      <td>3.32566</td>\n",
       "      <td>51.563598</td>\n",
       "      <td>3.47672</td>\n",
       "    </tr>\n",
       "    <tr>\n",
       "      <th>2</th>\n",
       "      <td>8.02844</td>\n",
       "      <td>4.22372</td>\n",
       "      <td>10.56160</td>\n",
       "      <td>1.64906</td>\n",
       "      <td>3.17460</td>\n",
       "      <td>50.863080</td>\n",
       "      <td>3.47672</td>\n",
       "    </tr>\n",
       "    <tr>\n",
       "      <th>3</th>\n",
       "      <td>8.02844</td>\n",
       "      <td>4.22372</td>\n",
       "      <td>10.56160</td>\n",
       "      <td>1.70716</td>\n",
       "      <td>3.17460</td>\n",
       "      <td>45.841581</td>\n",
       "      <td>3.47672</td>\n",
       "    </tr>\n",
       "    <tr>\n",
       "      <th>4</th>\n",
       "      <td>7.87572</td>\n",
       "      <td>4.44616</td>\n",
       "      <td>10.45038</td>\n",
       "      <td>1.70716</td>\n",
       "      <td>3.27586</td>\n",
       "      <td>47.126421</td>\n",
       "      <td>3.47672</td>\n",
       "    </tr>\n",
       "  </tbody>\n",
       "</table>\n",
       "</div>"
      ],
      "text/plain": [
       "   Sponginess  Wonder level  ...  Soap slipperiness  Hype root\n",
       "0     7.97698       4.33494  ...          51.681460    3.65434\n",
       "1     8.07824       4.44616  ...          51.563598    3.47672\n",
       "2     8.02844       4.22372  ...          50.863080    3.47672\n",
       "3     8.02844       4.22372  ...          45.841581    3.47672\n",
       "4     7.87572       4.44616  ...          47.126421    3.47672\n",
       "\n",
       "[5 rows x 7 columns]"
      ]
     },
     "execution_count": 4,
     "metadata": {},
     "output_type": "execute_result"
    }
   ],
   "source": [
    "dataset = pd.read_csv('training.csv')\n",
    "print(dataset.shape)\n",
    "dataset.head()"
   ]
  },
  {
   "cell_type": "markdown",
   "metadata": {
    "id": "aIznfP-JnkOs"
   },
   "source": [
    "## Model (Direct Forecast)"
   ]
  },
  {
   "cell_type": "markdown",
   "metadata": {
    "id": "B-U_c8LHdcEI"
   },
   "source": [
    "### Normalization"
   ]
  },
  {
   "cell_type": "code",
   "execution_count": null,
   "metadata": {
    "execution": {
     "iopub.execute_input": "2021-12-14T10:38:54.807863Z",
     "iopub.status.busy": "2021-12-14T10:38:54.807559Z",
     "iopub.status.idle": "2021-12-14T10:38:55.314326Z",
     "shell.execute_reply": "2021-12-14T10:38:55.313429Z",
     "shell.execute_reply.started": "2021-12-14T10:38:54.807833Z"
    },
    "id": "K1lBU98HdcEI"
   },
   "outputs": [],
   "source": [
    "X_train_raw = dataset.copy()\n",
    "\n",
    "# Normalize both train and test samples\n",
    "X_min = X_train_raw.min()\n",
    "X_max = X_train_raw.max()\n",
    "X_train_raw = (X_train_raw-X_min)/(X_max-X_min)"
   ]
  },
  {
   "cell_type": "markdown",
   "metadata": {
    "id": "lyVViS7qnqGK"
   },
   "source": [
    "### Define sequences"
   ]
  },
  {
   "cell_type": "code",
   "execution_count": null,
   "metadata": {
    "execution": {
     "iopub.execute_input": "2021-12-14T10:39:13.698098Z",
     "iopub.status.busy": "2021-12-14T10:39:13.697773Z",
     "iopub.status.idle": "2021-12-14T10:39:13.70231Z",
     "shell.execute_reply": "2021-12-14T10:39:13.701574Z",
     "shell.execute_reply.started": "2021-12-14T10:39:13.698063Z"
    },
    "id": "GO629iD-dcEJ"
   },
   "outputs": [],
   "source": [
    "target_labels = dataset.columns\n",
    "window = 1000\n",
    "stride = 50\n",
    "telescope = 864"
   ]
  },
  {
   "cell_type": "code",
   "execution_count": null,
   "metadata": {
    "execution": {
     "iopub.execute_input": "2021-12-14T10:39:15.184927Z",
     "iopub.status.busy": "2021-12-14T10:39:15.18458Z",
     "iopub.status.idle": "2021-12-14T10:39:15.195572Z",
     "shell.execute_reply": "2021-12-14T10:39:15.194818Z",
     "shell.execute_reply.started": "2021-12-14T10:39:15.184895Z"
    },
    "id": "bGhtbWCNdcEK"
   },
   "outputs": [],
   "source": [
    "def build_sequences(df, target_labels=['pollution'], window=200, stride=20, telescope=100):\n",
    "    # Sanity check to avoid runtime errors\n",
    "    assert window % stride == 0\n",
    "    dataset = []\n",
    "    labels = []\n",
    "    temp_df = df.copy().values\n",
    "    temp_label = df[target_labels].copy().values\n",
    "    padding_len = len(df)%window\n",
    "\n",
    "    if(padding_len != 0):\n",
    "        # Compute padding length\n",
    "        padding_len = window - len(df)%window\n",
    "        padding = np.zeros((padding_len,temp_df.shape[1]), dtype='float64')\n",
    "        temp_df = np.concatenate((padding,df))\n",
    "        padding = np.zeros((padding_len,temp_label.shape[1]), dtype='float64')\n",
    "        temp_label = np.concatenate((padding,temp_label))\n",
    "        assert len(temp_df) % window == 0\n",
    "\n",
    "    for idx in np.arange(0,len(temp_df)-window-telescope,stride):\n",
    "        dataset.append(temp_df[idx:idx+window])\n",
    "        labels.append(temp_label[idx+window:idx+window+telescope])\n",
    "\n",
    "    dataset = np.array(dataset)\n",
    "    labels = np.array(labels)\n",
    "    return dataset, labels"
   ]
  },
  {
   "cell_type": "code",
   "execution_count": null,
   "metadata": {
    "execution": {
     "iopub.execute_input": "2021-12-14T10:39:33.89504Z",
     "iopub.status.busy": "2021-12-14T10:39:33.894671Z",
     "iopub.status.idle": "2021-12-14T10:39:34.027336Z",
     "shell.execute_reply": "2021-12-14T10:39:34.026235Z",
     "shell.execute_reply.started": "2021-12-14T10:39:33.895Z"
    },
    "id": "OMsb5-sCdcEM"
   },
   "outputs": [],
   "source": [
    "X_train, y_train = build_sequences(X_train_raw, target_labels, window, stride, telescope)"
   ]
  },
  {
   "cell_type": "markdown",
   "metadata": {
    "id": "uU5jIHeyn1bU"
   },
   "source": [
    "### Define the model"
   ]
  },
  {
   "cell_type": "code",
   "execution_count": null,
   "metadata": {
    "execution": {
     "iopub.execute_input": "2021-12-14T10:42:37.2864Z",
     "iopub.status.busy": "2021-12-14T10:42:37.286062Z",
     "iopub.status.idle": "2021-12-14T10:42:37.291803Z",
     "shell.execute_reply": "2021-12-14T10:42:37.29102Z",
     "shell.execute_reply.started": "2021-12-14T10:42:37.286364Z"
    },
    "id": "3dCM7Ru5dcEO"
   },
   "outputs": [],
   "source": [
    "input_shape = X_train.shape[1:]\n",
    "output_shape = y_train.shape[1:]\n",
    "batch_size = 64\n",
    "epochs = 200"
   ]
  },
  {
   "cell_type": "code",
   "execution_count": null,
   "metadata": {
    "execution": {
     "iopub.execute_input": "2021-12-14T10:42:44.394798Z",
     "iopub.status.busy": "2021-12-14T10:42:44.393212Z",
     "iopub.status.idle": "2021-12-14T10:42:44.40638Z",
     "shell.execute_reply": "2021-12-14T10:42:44.405323Z",
     "shell.execute_reply.started": "2021-12-14T10:42:44.39475Z"
    },
    "id": "XAxF0oGSdcEO"
   },
   "outputs": [],
   "source": [
    "def build_CONV_LSTM_model(input_shape, output_shape):\n",
    "    # Build the neural network layer by layer\n",
    "    input_layer = tfkl.Input(shape=input_shape, name='Input')\n",
    "\n",
    "    convlstm = tfkl.Bidirectional(tfkl.LSTM(64, return_sequences=True))(input_layer)\n",
    "    convlstm = tfkl.Conv1D(128, 3, padding='same', activation='relu')(convlstm)\n",
    "    convlstm = tfkl.MaxPool1D()(convlstm)\n",
    "    convlstm = tfkl.Bidirectional(tfkl.LSTM(128, return_sequences=True))(convlstm)\n",
    "    convlstm = tfkl.Conv1D(256, 3, padding='same', activation='relu')(convlstm)\n",
    "    convlstm = tfkl.GlobalAveragePooling1D()(convlstm)\n",
    "    convlstm = tfkl.Dropout(.5)(convlstm)\n",
    "\n",
    "    # In order to predict the next values for more than one channel,\n",
    "    # we can use a Dense layer with a number given by telescope*num_channels,\n",
    "    # followed by a Reshape layer to obtain a tensor of dimension \n",
    "    # [None, telescope, num_channels]\n",
    "    dense = tfkl.Dense(output_shape[-1]*output_shape[-2], activation='relu')(convlstm)\n",
    "    output_layer = tfkl.Reshape((output_shape[-2],output_shape[-1]))(dense)\n",
    "    output_layer = tfkl.Conv1D(output_shape[-1], 1, padding='same')(output_layer)\n",
    "\n",
    "    # Connect input and output through the Model class\n",
    "    model = tfk.Model(inputs=input_layer, outputs=output_layer, name='model')\n",
    "\n",
    "    # Compile the model\n",
    "    model.compile(loss=tfk.losses.MeanSquaredError(), optimizer=tfk.optimizers.Adam(), metrics=['mae'])\n",
    "\n",
    "    # Return the model\n",
    "    return model"
   ]
  },
  {
   "cell_type": "code",
   "execution_count": null,
   "metadata": {
    "colab": {
     "base_uri": "https://localhost:8080/"
    },
    "execution": {
     "iopub.execute_input": "2021-12-14T10:42:54.604535Z",
     "iopub.status.busy": "2021-12-14T10:42:54.604213Z",
     "iopub.status.idle": "2021-12-14T10:42:57.095735Z",
     "shell.execute_reply": "2021-12-14T10:42:57.094316Z",
     "shell.execute_reply.started": "2021-12-14T10:42:54.604503Z"
    },
    "executionInfo": {
     "elapsed": 5395,
     "status": "ok",
     "timestamp": 1639563916347,
     "user": {
      "displayName": "Michele Russo",
      "photoUrl": "https://lh3.googleusercontent.com/a-/AOh14GhyAOV7v4rD3SsSLhmGKIAPUCp5S_U_b_Max0XoRw=s64",
      "userId": "05058015320206708993"
     },
     "user_tz": -60
    },
    "id": "Gsb9FEKqdcEP",
    "outputId": "c93b1f78-387c-4711-9c6c-509a6a63a24a"
   },
   "outputs": [
    {
     "name": "stdout",
     "output_type": "stream",
     "text": [
      "Model: \"model\"\n",
      "_________________________________________________________________\n",
      " Layer (type)                Output Shape              Param #   \n",
      "=================================================================\n",
      " Input (InputLayer)          [(None, 1000, 7)]         0         \n",
      "                                                                 \n",
      " bidirectional (Bidirectiona  (None, 1000, 128)        36864     \n",
      " l)                                                              \n",
      "                                                                 \n",
      " conv1d (Conv1D)             (None, 1000, 128)         49280     \n",
      "                                                                 \n",
      " max_pooling1d (MaxPooling1D  (None, 500, 128)         0         \n",
      " )                                                               \n",
      "                                                                 \n",
      " bidirectional_1 (Bidirectio  (None, 500, 256)         263168    \n",
      " nal)                                                            \n",
      "                                                                 \n",
      " conv1d_1 (Conv1D)           (None, 500, 256)          196864    \n",
      "                                                                 \n",
      " global_average_pooling1d (G  (None, 256)              0         \n",
      " lobalAveragePooling1D)                                          \n",
      "                                                                 \n",
      " dropout (Dropout)           (None, 256)               0         \n",
      "                                                                 \n",
      " dense (Dense)               (None, 6048)              1554336   \n",
      "                                                                 \n",
      " reshape (Reshape)           (None, 864, 7)            0         \n",
      "                                                                 \n",
      " conv1d_2 (Conv1D)           (None, 864, 7)            56        \n",
      "                                                                 \n",
      "=================================================================\n",
      "Total params: 2,100,568\n",
      "Trainable params: 2,100,568\n",
      "Non-trainable params: 0\n",
      "_________________________________________________________________\n"
     ]
    }
   ],
   "source": [
    "model = build_CONV_LSTM_model(input_shape, output_shape)\n",
    "model.summary()"
   ]
  },
  {
   "cell_type": "code",
   "execution_count": null,
   "metadata": {
    "colab": {
     "base_uri": "https://localhost:8080/"
    },
    "execution": {
     "iopub.execute_input": "2021-12-14T10:43:09.527188Z",
     "iopub.status.busy": "2021-12-14T10:43:09.526878Z",
     "iopub.status.idle": "2021-12-14T11:26:36.0456Z",
     "shell.execute_reply": "2021-12-14T11:26:36.044963Z",
     "shell.execute_reply.started": "2021-12-14T10:43:09.527156Z"
    },
    "executionInfo": {
     "elapsed": 424976,
     "status": "ok",
     "timestamp": 1639564341318,
     "user": {
      "displayName": "Michele Russo",
      "photoUrl": "https://lh3.googleusercontent.com/a-/AOh14GhyAOV7v4rD3SsSLhmGKIAPUCp5S_U_b_Max0XoRw=s64",
      "userId": "05058015320206708993"
     },
     "user_tz": -60
    },
    "id": "FiWsYUS9dcEQ",
    "outputId": "f75827b0-c0f9-4466-e03c-633e3a3c0335"
   },
   "outputs": [
    {
     "name": "stdout",
     "output_type": "stream",
     "text": [
      "Epoch 1/200\n",
      "19/19 [==============================] - 26s 625ms/step - loss: 0.1740 - mae: 0.3402 - val_loss: 0.1132 - val_mae: 0.2654 - lr: 0.0010\n",
      "Epoch 2/200\n",
      "19/19 [==============================] - 9s 501ms/step - loss: 0.1113 - mae: 0.2611 - val_loss: 0.0934 - val_mae: 0.2406 - lr: 0.0010\n",
      "Epoch 3/200\n",
      "19/19 [==============================] - 9s 498ms/step - loss: 0.0911 - mae: 0.2355 - val_loss: 0.0758 - val_mae: 0.2138 - lr: 0.0010\n",
      "Epoch 4/200\n",
      "19/19 [==============================] - 9s 501ms/step - loss: 0.0734 - mae: 0.2107 - val_loss: 0.0623 - val_mae: 0.1944 - lr: 0.0010\n",
      "Epoch 5/200\n",
      "19/19 [==============================] - 9s 500ms/step - loss: 0.0581 - mae: 0.1878 - val_loss: 0.0493 - val_mae: 0.1679 - lr: 0.0010\n",
      "Epoch 6/200\n",
      "19/19 [==============================] - 9s 500ms/step - loss: 0.0460 - mae: 0.1676 - val_loss: 0.0402 - val_mae: 0.1513 - lr: 0.0010\n",
      "Epoch 7/200\n",
      "19/19 [==============================] - 9s 500ms/step - loss: 0.0367 - mae: 0.1498 - val_loss: 0.0338 - val_mae: 0.1403 - lr: 0.0010\n",
      "Epoch 8/200\n",
      "19/19 [==============================] - 9s 499ms/step - loss: 0.0308 - mae: 0.1378 - val_loss: 0.0297 - val_mae: 0.1330 - lr: 0.0010\n",
      "Epoch 9/200\n",
      "19/19 [==============================] - 9s 498ms/step - loss: 0.0261 - mae: 0.1266 - val_loss: 0.0262 - val_mae: 0.1253 - lr: 0.0010\n",
      "Epoch 10/200\n",
      "19/19 [==============================] - 10s 503ms/step - loss: 0.0232 - mae: 0.1189 - val_loss: 0.0243 - val_mae: 0.1202 - lr: 0.0010\n",
      "Epoch 11/200\n",
      "19/19 [==============================] - 9s 502ms/step - loss: 0.0214 - mae: 0.1138 - val_loss: 0.0232 - val_mae: 0.1179 - lr: 0.0010\n",
      "Epoch 12/200\n",
      "19/19 [==============================] - 9s 501ms/step - loss: 0.0203 - mae: 0.1103 - val_loss: 0.0242 - val_mae: 0.1140 - lr: 0.0010\n",
      "Epoch 13/200\n",
      "19/19 [==============================] - 9s 502ms/step - loss: 0.0196 - mae: 0.1082 - val_loss: 0.0220 - val_mae: 0.1139 - lr: 0.0010\n",
      "Epoch 14/200\n",
      "19/19 [==============================] - 10s 503ms/step - loss: 0.0190 - mae: 0.1059 - val_loss: 0.0216 - val_mae: 0.1120 - lr: 0.0010\n",
      "Epoch 15/200\n",
      "19/19 [==============================] - 9s 500ms/step - loss: 0.0189 - mae: 0.1054 - val_loss: 0.0213 - val_mae: 0.1083 - lr: 0.0010\n",
      "Epoch 16/200\n",
      "19/19 [==============================] - 10s 505ms/step - loss: 0.0186 - mae: 0.1042 - val_loss: 0.0212 - val_mae: 0.1094 - lr: 0.0010\n",
      "Epoch 17/200\n",
      "19/19 [==============================] - 9s 500ms/step - loss: 0.0186 - mae: 0.1046 - val_loss: 0.0216 - val_mae: 0.1120 - lr: 0.0010\n",
      "Epoch 18/200\n",
      "19/19 [==============================] - 9s 501ms/step - loss: 0.0184 - mae: 0.1035 - val_loss: 0.0210 - val_mae: 0.1093 - lr: 0.0010\n",
      "Epoch 19/200\n",
      "19/19 [==============================] - 9s 500ms/step - loss: 0.0183 - mae: 0.1033 - val_loss: 0.0226 - val_mae: 0.1167 - lr: 0.0010\n",
      "Epoch 20/200\n",
      "19/19 [==============================] - 9s 501ms/step - loss: 0.0185 - mae: 0.1040 - val_loss: 0.0215 - val_mae: 0.1123 - lr: 0.0010\n",
      "Epoch 21/200\n",
      "19/19 [==============================] - 9s 502ms/step - loss: 0.0183 - mae: 0.1036 - val_loss: 0.0216 - val_mae: 0.1125 - lr: 0.0010\n",
      "Epoch 22/200\n",
      "19/19 [==============================] - 9s 501ms/step - loss: 0.0183 - mae: 0.1032 - val_loss: 0.0216 - val_mae: 0.1125 - lr: 0.0010\n",
      "Epoch 23/200\n",
      "19/19 [==============================] - 9s 502ms/step - loss: 0.0183 - mae: 0.1037 - val_loss: 0.0222 - val_mae: 0.1158 - lr: 0.0010\n",
      "Epoch 24/200\n",
      "19/19 [==============================] - 9s 500ms/step - loss: 0.0181 - mae: 0.1030 - val_loss: 0.0209 - val_mae: 0.1073 - lr: 5.0000e-04\n",
      "Epoch 25/200\n",
      "19/19 [==============================] - 9s 500ms/step - loss: 0.0180 - mae: 0.1022 - val_loss: 0.0212 - val_mae: 0.1110 - lr: 5.0000e-04\n",
      "Epoch 26/200\n",
      "19/19 [==============================] - 9s 500ms/step - loss: 0.0178 - mae: 0.1017 - val_loss: 0.0216 - val_mae: 0.1124 - lr: 5.0000e-04\n",
      "Epoch 27/200\n",
      "19/19 [==============================] - 9s 498ms/step - loss: 0.0177 - mae: 0.1018 - val_loss: 0.0210 - val_mae: 0.1098 - lr: 5.0000e-04\n",
      "Epoch 28/200\n",
      "19/19 [==============================] - 9s 500ms/step - loss: 0.0179 - mae: 0.1021 - val_loss: 0.0207 - val_mae: 0.1065 - lr: 5.0000e-04\n",
      "Epoch 29/200\n",
      "19/19 [==============================] - 10s 503ms/step - loss: 0.0178 - mae: 0.1018 - val_loss: 0.0207 - val_mae: 0.1075 - lr: 5.0000e-04\n",
      "Epoch 30/200\n",
      "19/19 [==============================] - 10s 504ms/step - loss: 0.0177 - mae: 0.1013 - val_loss: 0.0210 - val_mae: 0.1092 - lr: 5.0000e-04\n",
      "Epoch 31/200\n",
      "19/19 [==============================] - 9s 500ms/step - loss: 0.0176 - mae: 0.1012 - val_loss: 0.0208 - val_mae: 0.1079 - lr: 5.0000e-04\n",
      "Epoch 32/200\n",
      "19/19 [==============================] - 9s 501ms/step - loss: 0.0176 - mae: 0.1010 - val_loss: 0.0220 - val_mae: 0.1140 - lr: 5.0000e-04\n",
      "Epoch 33/200\n",
      "19/19 [==============================] - 9s 501ms/step - loss: 0.0178 - mae: 0.1015 - val_loss: 0.0207 - val_mae: 0.1068 - lr: 5.0000e-04\n",
      "Epoch 34/200\n",
      "19/19 [==============================] - 9s 501ms/step - loss: 0.0177 - mae: 0.1013 - val_loss: 0.0210 - val_mae: 0.1097 - lr: 2.5000e-04\n",
      "Epoch 35/200\n",
      "19/19 [==============================] - 10s 502ms/step - loss: 0.0175 - mae: 0.1006 - val_loss: 0.0209 - val_mae: 0.1094 - lr: 2.5000e-04\n",
      "Epoch 36/200\n",
      "19/19 [==============================] - 10s 503ms/step - loss: 0.0174 - mae: 0.1005 - val_loss: 0.0209 - val_mae: 0.1093 - lr: 2.5000e-04\n",
      "Epoch 37/200\n",
      "19/19 [==============================] - 9s 500ms/step - loss: 0.0175 - mae: 0.1006 - val_loss: 0.0208 - val_mae: 0.1067 - lr: 2.5000e-04\n",
      "Epoch 38/200\n",
      "19/19 [==============================] - 9s 502ms/step - loss: 0.0175 - mae: 0.1006 - val_loss: 0.0211 - val_mae: 0.1096 - lr: 2.5000e-04\n",
      "Epoch 39/200\n",
      "19/19 [==============================] - 10s 503ms/step - loss: 0.0173 - mae: 0.1001 - val_loss: 0.0210 - val_mae: 0.1095 - lr: 1.2500e-04\n",
      "Epoch 40/200\n",
      "19/19 [==============================] - 9s 501ms/step - loss: 0.0173 - mae: 0.1003 - val_loss: 0.0214 - val_mae: 0.1115 - lr: 1.2500e-04\n",
      "Epoch 41/200\n",
      "19/19 [==============================] - 9s 501ms/step - loss: 0.0174 - mae: 0.1006 - val_loss: 0.0210 - val_mae: 0.1095 - lr: 1.2500e-04\n",
      "Epoch 42/200\n",
      "19/19 [==============================] - 9s 501ms/step - loss: 0.0174 - mae: 0.1003 - val_loss: 0.0209 - val_mae: 0.1086 - lr: 1.2500e-04\n",
      "Epoch 43/200\n",
      "19/19 [==============================] - 9s 501ms/step - loss: 0.0173 - mae: 0.1001 - val_loss: 0.0210 - val_mae: 0.1093 - lr: 1.2500e-04\n"
     ]
    }
   ],
   "source": [
    "# Train the model\n",
    "history = model.fit(\n",
    "    x = X_train,\n",
    "    y = y_train,\n",
    "    batch_size = batch_size,\n",
    "    epochs = epochs,\n",
    "    validation_split=.1,\n",
    "    callbacks = [\n",
    "        tfk.callbacks.EarlyStopping(monitor='val_loss', mode='min', patience=10, restore_best_weights=True),\n",
    "        tfk.callbacks.ReduceLROnPlateau(monitor='val_loss', mode='min', patience=5, factor=0.5, min_lr=1e-5)\n",
    "    ]\n",
    ").history"
   ]
  },
  {
   "cell_type": "markdown",
   "metadata": {
    "id": "TjH7Lrggn357"
   },
   "source": [
    "### Save the model"
   ]
  },
  {
   "cell_type": "code",
   "execution_count": null,
   "metadata": {
    "colab": {
     "base_uri": "https://localhost:8080/"
    },
    "executionInfo": {
     "elapsed": 32635,
     "status": "ok",
     "timestamp": 1639564373942,
     "user": {
      "displayName": "Michele Russo",
      "photoUrl": "https://lh3.googleusercontent.com/a-/AOh14GhyAOV7v4rD3SsSLhmGKIAPUCp5S_U_b_Max0XoRw=s64",
      "userId": "05058015320206708993"
     },
     "user_tz": -60
    },
    "id": "r6hvjYGmlMot",
    "outputId": "866af2f5-03aa-4310-d5a7-5b81b2bafd99"
   },
   "outputs": [
    {
     "name": "stderr",
     "output_type": "stream",
     "text": [
      "WARNING:absl:Function `_wrapped_model` contains input name(s) Input with unsupported characters which will be renamed to input in the SavedModel.\n",
      "WARNING:absl:Found untraced functions such as lstm_cell_1_layer_call_fn, lstm_cell_1_layer_call_and_return_conditional_losses, lstm_cell_2_layer_call_fn, lstm_cell_2_layer_call_and_return_conditional_losses, lstm_cell_4_layer_call_fn while saving (showing 5 of 20). These functions will not be directly callable after loading.\n",
      "WARNING:absl:<keras.layers.recurrent.LSTMCell object at 0x7fbd5321eb90> has the same name 'LSTMCell' as a built-in Keras object. Consider renaming <class 'keras.layers.recurrent.LSTMCell'> to avoid naming conflicts when loading with `tf.keras.models.load_model`. If renaming is not possible, pass the object in the `custom_objects` parameter of the load function.\n",
      "WARNING:absl:<keras.layers.recurrent.LSTMCell object at 0x7fbd531ab650> has the same name 'LSTMCell' as a built-in Keras object. Consider renaming <class 'keras.layers.recurrent.LSTMCell'> to avoid naming conflicts when loading with `tf.keras.models.load_model`. If renaming is not possible, pass the object in the `custom_objects` parameter of the load function.\n",
      "WARNING:absl:<keras.layers.recurrent.LSTMCell object at 0x7fbcdb1ff410> has the same name 'LSTMCell' as a built-in Keras object. Consider renaming <class 'keras.layers.recurrent.LSTMCell'> to avoid naming conflicts when loading with `tf.keras.models.load_model`. If renaming is not possible, pass the object in the `custom_objects` parameter of the load function.\n",
      "WARNING:absl:<keras.layers.recurrent.LSTMCell object at 0x7fbcdb1ffe50> has the same name 'LSTMCell' as a built-in Keras object. Consider renaming <class 'keras.layers.recurrent.LSTMCell'> to avoid naming conflicts when loading with `tf.keras.models.load_model`. If renaming is not possible, pass the object in the `custom_objects` parameter of the load function.\n"
     ]
    }
   ],
   "source": [
    "model.save(\"Direct Forecast\")"
   ]
  },
  {
   "cell_type": "code",
   "execution_count": null,
   "metadata": {
    "colab": {
     "base_uri": "https://localhost:8080/"
    },
    "executionInfo": {
     "elapsed": 469,
     "status": "ok",
     "timestamp": 1639566476436,
     "user": {
      "displayName": "Michele Russo",
      "photoUrl": "https://lh3.googleusercontent.com/a-/AOh14GhyAOV7v4rD3SsSLhmGKIAPUCp5S_U_b_Max0XoRw=s64",
      "userId": "05058015320206708993"
     },
     "user_tz": -60
    },
    "id": "DqcPhF14xFZd",
    "outputId": "64e86576-a0bb-476c-fc7c-ed1a2c106624"
   },
   "outputs": [
    {
     "name": "stdout",
     "output_type": "stream",
     "text": [
      "(864, 7)\n"
     ]
    }
   ],
   "source": [
    "X = tf.constant(dataset) # This is NOT for submission\n",
    "X = X.numpy()\n",
    "future = X[-window:]\n",
    "X_min = X.min(axis=0)\n",
    "X_max = X.max(axis=0)\n",
    "future = (future-X_min)/(X_max-X_min)\n",
    "future = np.expand_dims(future,0)\n",
    "out = model.predict(future)\n",
    "out = np.squeeze(out,0)\n",
    "out = out * (X_max - X_min) + X_min\n",
    "out = tf.convert_to_tensor(out)"
   ]
  }
 ],
 "metadata": {
  "accelerator": "GPU",
  "colab": {
   "collapsed_sections": [],
   "name": "Direct Forecast.ipynb",
   "provenance": []
  },
  "kernelspec": {
   "display_name": "Python 3 (ipykernel)",
   "language": "python",
   "name": "python3"
  },
  "language_info": {
   "codemirror_mode": {
    "name": "ipython",
    "version": 3
   },
   "file_extension": ".py",
   "mimetype": "text/x-python",
   "name": "python",
   "nbconvert_exporter": "python",
   "pygments_lexer": "ipython3",
   "version": "3.8.5"
  }
 },
 "nbformat": 4,
 "nbformat_minor": 1
}
