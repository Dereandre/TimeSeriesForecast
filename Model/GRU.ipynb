{
 "cells": [
  {
   "cell_type": "markdown",
   "id": "5b74c74d",
   "metadata": {
    "id": "5b74c74d",
    "papermill": {
     "duration": 0.017674,
     "end_time": "2021-12-28T14:15:51.831579",
     "exception": false,
     "start_time": "2021-12-28T14:15:51.813905",
     "status": "completed"
    },
    "tags": []
   },
   "source": [
    "# AN2DL - Second Challenge"
   ]
  },
  {
   "cell_type": "markdown",
   "id": "ae6f384c",
   "metadata": {
    "id": "ae6f384c",
    "papermill": {
     "duration": 0.015521,
     "end_time": "2021-12-28T14:15:51.896157",
     "exception": false,
     "start_time": "2021-12-28T14:15:51.880636",
     "status": "completed"
    },
    "tags": []
   },
   "source": [
    "## Initial Operations"
   ]
  },
  {
   "cell_type": "markdown",
   "id": "705b37d8",
   "metadata": {
    "id": "705b37d8",
    "papermill": {
     "duration": 0.015357,
     "end_time": "2021-12-28T14:15:51.927023",
     "exception": false,
     "start_time": "2021-12-28T14:15:51.911666",
     "status": "completed"
    },
    "tags": []
   },
   "source": [
    "### Import the libraries"
   ]
  },
  {
   "cell_type": "code",
   "execution_count": null,
   "id": "18c8c38b",
   "metadata": {
    "_cell_guid": "58b5be80-fbd6-4bb4-b023-b36ca0cf0c94",
    "_uuid": "45ccbb4f-78f7-4db5-ba6b-ae04090a2caf",
    "execution": {
     "iopub.execute_input": "2021-12-28T14:15:51.964021Z",
     "iopub.status.busy": "2021-12-28T14:15:51.962537Z",
     "iopub.status.idle": "2021-12-28T14:15:57.601219Z",
     "shell.execute_reply": "2021-12-28T14:15:57.601709Z",
     "shell.execute_reply.started": "2021-12-28T12:41:05.002605Z"
    },
    "id": "18c8c38b",
    "jupyter": {
     "outputs_hidden": false
    },
    "papermill": {
     "duration": 5.659083,
     "end_time": "2021-12-28T14:15:57.601972",
     "exception": false,
     "start_time": "2021-12-28T14:15:51.942889",
     "status": "completed"
    },
    "tags": []
   },
   "outputs": [],
   "source": [
    "import tensorflow as tf\n",
    "import numpy as np\n",
    "import os\n",
    "import random\n",
    "import pandas as pd\n",
    "import seaborn as sns\n",
    "from datetime import datetime\n",
    "import matplotlib.pyplot as plt\n",
    "plt.rc('font', size=16)\n",
    "from sklearn.preprocessing import MinMaxScaler\n",
    "import warnings\n",
    "warnings.filterwarnings('ignore')\n",
    "tf.get_logger().setLevel('ERROR')\n",
    "\n",
    "tfk = tf.keras\n",
    "tfkl = tf.keras.layers"
   ]
  },
  {
   "cell_type": "markdown",
   "id": "62cee828",
   "metadata": {
    "id": "62cee828",
    "papermill": {
     "duration": 0.015443,
     "end_time": "2021-12-28T14:15:57.633707",
     "exception": false,
     "start_time": "2021-12-28T14:15:57.618264",
     "status": "completed"
    },
    "tags": []
   },
   "source": [
    "### Set seed for reproducibility"
   ]
  },
  {
   "cell_type": "code",
   "execution_count": null,
   "id": "9b24680d",
   "metadata": {
    "execution": {
     "iopub.execute_input": "2021-12-28T14:15:57.670083Z",
     "iopub.status.busy": "2021-12-28T14:15:57.669310Z",
     "iopub.status.idle": "2021-12-28T14:15:57.671218Z",
     "shell.execute_reply": "2021-12-28T14:15:57.671617Z",
     "shell.execute_reply.started": "2021-12-28T12:41:12.484946Z"
    },
    "id": "9b24680d",
    "papermill": {
     "duration": 0.022548,
     "end_time": "2021-12-28T14:15:57.671744",
     "exception": false,
     "start_time": "2021-12-28T14:15:57.649196",
     "status": "completed"
    },
    "tags": []
   },
   "outputs": [],
   "source": [
    "seed = 69\n",
    "random.seed(seed)\n",
    "os.environ['PYTHONHASHSEED'] = str(seed)\n",
    "np.random.seed(seed)\n",
    "tf.random.set_seed(seed)\n",
    "tf.compat.v1.set_random_seed(seed)"
   ]
  },
  {
   "cell_type": "code",
   "execution_count": null,
   "id": "cbf53a42",
   "metadata": {
    "execution": {
     "iopub.execute_input": "2021-12-28T14:15:57.707223Z",
     "iopub.status.busy": "2021-12-28T14:15:57.706750Z",
     "iopub.status.idle": "2021-12-28T14:15:57.908006Z",
     "shell.execute_reply": "2021-12-28T14:15:57.907522Z",
     "shell.execute_reply.started": "2021-12-28T12:41:12.493955Z"
    },
    "id": "cbf53a42",
    "papermill": {
     "duration": 0.220495,
     "end_time": "2021-12-28T14:15:57.908136",
     "exception": false,
     "start_time": "2021-12-28T14:15:57.687641",
     "status": "completed"
    },
    "tags": []
   },
   "outputs": [],
   "source": [
    "dataset = pd.read_csv('training.csv') "
   ]
  },
  {
   "cell_type": "markdown",
   "id": "1f40f1c0",
   "metadata": {
    "id": "1f40f1c0",
    "papermill": {
     "duration": 0.021569,
     "end_time": "2021-12-28T14:15:58.925455",
     "exception": false,
     "start_time": "2021-12-28T14:15:58.903886",
     "status": "completed"
    },
    "tags": []
   },
   "source": [
    "## Model"
   ]
  },
  {
   "cell_type": "markdown",
   "id": "9101fe28",
   "metadata": {
    "id": "9101fe28",
    "papermill": {
     "duration": 0.02095,
     "end_time": "2021-12-28T14:15:58.967577",
     "exception": false,
     "start_time": "2021-12-28T14:15:58.946627",
     "status": "completed"
    },
    "tags": []
   },
   "source": [
    "### Normalization"
   ]
  },
  {
   "cell_type": "code",
   "execution_count": null,
   "id": "3ecd4c6a",
   "metadata": {
    "execution": {
     "iopub.execute_input": "2021-12-28T14:15:59.018188Z",
     "iopub.status.busy": "2021-12-28T14:15:59.017350Z",
     "iopub.status.idle": "2021-12-28T14:15:59.027125Z",
     "shell.execute_reply": "2021-12-28T14:15:59.026721Z",
     "shell.execute_reply.started": "2021-12-28T12:41:13.954791Z"
    },
    "id": "3ecd4c6a",
    "papermill": {
     "duration": 0.038556,
     "end_time": "2021-12-28T14:15:59.027240",
     "exception": false,
     "start_time": "2021-12-28T14:15:58.988684",
     "status": "completed"
    },
    "tags": []
   },
   "outputs": [],
   "source": [
    "X_train_raw = dataset.copy()\n",
    "\n",
    "# Normalize both train and test samples\n",
    "X_min = X_train_raw.min()\n",
    "X_max = X_train_raw.max()\n",
    "X_train_raw = (X_train_raw-X_min)/(X_max-X_min)"
   ]
  },
  {
   "cell_type": "markdown",
   "id": "4e86e920",
   "metadata": {
    "id": "4e86e920",
    "papermill": {
     "duration": 0.020983,
     "end_time": "2021-12-28T14:15:59.070353",
     "exception": false,
     "start_time": "2021-12-28T14:15:59.049370",
     "status": "completed"
    },
    "tags": []
   },
   "source": [
    "### Define Sequences"
   ]
  },
  {
   "cell_type": "code",
   "execution_count": null,
   "id": "449fe97e",
   "metadata": {
    "execution": {
     "iopub.execute_input": "2021-12-28T14:15:59.117627Z",
     "iopub.status.busy": "2021-12-28T14:15:59.116820Z",
     "iopub.status.idle": "2021-12-28T14:15:59.118795Z",
     "shell.execute_reply": "2021-12-28T14:15:59.119172Z",
     "shell.execute_reply.started": "2021-12-28T12:41:13.978291Z"
    },
    "id": "449fe97e",
    "papermill": {
     "duration": 0.027342,
     "end_time": "2021-12-28T14:15:59.119302",
     "exception": false,
     "start_time": "2021-12-28T14:15:59.091960",
     "status": "completed"
    },
    "tags": []
   },
   "outputs": [],
   "source": [
    "target_labels = dataset.columns\n",
    "window = 100\n",
    "stride = 10\n",
    "telescope = 48"
   ]
  },
  {
   "cell_type": "code",
   "execution_count": null,
   "id": "c9f25796",
   "metadata": {
    "execution": {
     "iopub.execute_input": "2021-12-28T14:15:59.171033Z",
     "iopub.status.busy": "2021-12-28T14:15:59.170363Z",
     "iopub.status.idle": "2021-12-28T14:15:59.172621Z",
     "shell.execute_reply": "2021-12-28T14:15:59.173026Z",
     "shell.execute_reply.started": "2021-12-28T12:41:13.983765Z"
    },
    "id": "c9f25796",
    "papermill": {
     "duration": 0.031572,
     "end_time": "2021-12-28T14:15:59.173184",
     "exception": false,
     "start_time": "2021-12-28T14:15:59.141612",
     "status": "completed"
    },
    "tags": []
   },
   "outputs": [],
   "source": [
    "def build_sequences(df, target_labels, window, stride, telescope):\n",
    "    # Sanity check to avoid runtime errors\n",
    "    assert window % stride == 0\n",
    "    dataset = []\n",
    "    labels = []\n",
    "    temp_df = df.copy().values\n",
    "    temp_label = df[target_labels].copy().values\n",
    "    padding_len = len(df)%window\n",
    "\n",
    "    if(padding_len != 0):\n",
    "        # Compute padding length\n",
    "        padding_len = window - len(df)%window\n",
    "        padding = np.zeros((padding_len,temp_df.shape[1]), dtype='float64')\n",
    "        temp_df = np.concatenate((padding,df))\n",
    "        padding = np.zeros((padding_len,temp_label.shape[1]), dtype='float64')\n",
    "        temp_label = np.concatenate((padding,temp_label))\n",
    "        assert len(temp_df) % window == 0\n",
    "\n",
    "    for idx in np.arange(0,len(temp_df)-window-telescope,stride):\n",
    "        dataset.append(temp_df[idx:idx+window])\n",
    "        labels.append(temp_label[idx+window:idx+window+telescope])\n",
    "\n",
    "    dataset = np.array(dataset)\n",
    "    labels = np.array(labels)\n",
    "    return dataset, labels"
   ]
  },
  {
   "cell_type": "code",
   "execution_count": null,
   "id": "b9d2a1f8",
   "metadata": {
    "execution": {
     "iopub.execute_input": "2021-12-28T14:15:59.219243Z",
     "iopub.status.busy": "2021-12-28T14:15:59.218752Z",
     "iopub.status.idle": "2021-12-28T14:15:59.277117Z",
     "shell.execute_reply": "2021-12-28T14:15:59.276658Z",
     "shell.execute_reply.started": "2021-12-28T12:41:13.999108Z"
    },
    "id": "b9d2a1f8",
    "papermill": {
     "duration": 0.083091,
     "end_time": "2021-12-28T14:15:59.277242",
     "exception": false,
     "start_time": "2021-12-28T14:15:59.194151",
     "status": "completed"
    },
    "tags": []
   },
   "outputs": [],
   "source": [
    "X_train, y_train = build_sequences(X_train_raw, target_labels, window, stride, telescope)"
   ]
  },
  {
   "cell_type": "markdown",
   "id": "4d82f104",
   "metadata": {
    "id": "4d82f104",
    "papermill": {
     "duration": 0.020801,
     "end_time": "2021-12-28T14:15:59.319696",
     "exception": false,
     "start_time": "2021-12-28T14:15:59.298895",
     "status": "completed"
    },
    "tags": []
   },
   "source": [
    "### Define the Model"
   ]
  },
  {
   "cell_type": "code",
   "execution_count": null,
   "id": "22025bd5",
   "metadata": {
    "execution": {
     "iopub.execute_input": "2021-12-28T14:15:59.367799Z",
     "iopub.status.busy": "2021-12-28T14:15:59.367089Z",
     "iopub.status.idle": "2021-12-28T14:15:59.370029Z",
     "shell.execute_reply": "2021-12-28T14:15:59.370631Z",
     "shell.execute_reply.started": "2021-12-28T12:41:14.186439Z"
    },
    "id": "22025bd5",
    "papermill": {
     "duration": 0.030012,
     "end_time": "2021-12-28T14:15:59.370805",
     "exception": false,
     "start_time": "2021-12-28T14:15:59.340793",
     "status": "completed"
    },
    "tags": []
   },
   "outputs": [],
   "source": [
    "input_shape = X_train.shape[1:]   #The window \n",
    "output_shape = y_train.shape[1:]  #The telescope \n",
    "batch_size = 64\n",
    "epochs = 35"
   ]
  },
  {
   "cell_type": "code",
   "execution_count": null,
   "id": "f9cb2e1d",
   "metadata": {
    "execution": {
     "iopub.execute_input": "2021-12-28T14:15:59.522936Z",
     "iopub.status.busy": "2021-12-28T14:15:59.522195Z",
     "iopub.status.idle": "2021-12-28T14:15:59.524189Z",
     "shell.execute_reply": "2021-12-28T14:15:59.524587Z",
     "shell.execute_reply.started": "2021-12-28T12:41:14.218242Z"
    },
    "id": "f9cb2e1d",
    "papermill": {
     "duration": 0.0333,
     "end_time": "2021-12-28T14:15:59.524728",
     "exception": false,
     "start_time": "2021-12-28T14:15:59.491428",
     "status": "completed"
    },
    "tags": []
   },
   "outputs": [],
   "source": [
    "def build_model(input_shape, output_shape):\n",
    "    # Build the neural network layer by layer\n",
    "    input_layer = tfkl.Input(shape=input_shape, name='Input')\n",
    "\n",
    "    layer = tfkl.Bidirectional(tfkl.GRU(64, return_sequences=True))(input_layer)\n",
    "    layer = tfkl.Conv1D(64, 3, padding='same', activation='relu')(layer)\n",
    "    layer = tfkl.MaxPool1D()(layer)\n",
    "    layer = tfkl.Bidirectional(tfkl.GRU(128, return_sequences=True))(layer)\n",
    "    layer = tfkl.Conv1D(128, 6, padding='same', activation='relu')(layer)\n",
    "    layer = tfkl.MaxPool1D()(layer)\n",
    "    layer = tfkl.Bidirectional(tfkl.GRU(256, return_sequences=True))(layer)\n",
    "    layer = tfkl.Conv1D(256, 12, padding='same', activation='relu')(layer)\n",
    "    layer = tfkl.GlobalAveragePooling1D()(layer)\n",
    "    layer = tfkl.Dropout(.25)(layer)\n",
    "    dense = tfkl.Dense(output_shape[-1]*output_shape[-2], activation='relu')(layer)\n",
    "    output_layer = tfkl.Reshape((output_shape[-2],output_shape[-1]))(dense)\n",
    "    output_layer = tfkl.Conv1D(output_shape[-1], 1, padding='same')(output_layer)\n",
    "\n",
    "    # Connect input and output through the Model class\n",
    "    model = tfk.Model(inputs=input_layer, outputs=output_layer, name='model')\n",
    "\n",
    "    # Compile the model\n",
    "    model.compile(loss=tfk.losses.MeanSquaredError(), optimizer=tfk.optimizers.Adam(), metrics=['mae'])\n",
    "\n",
    "    # Return the model\n",
    "    return model"
   ]
  },
  {
   "cell_type": "code",
   "execution_count": null,
   "id": "9bf8ffab",
   "metadata": {
    "colab": {
     "base_uri": "https://localhost:8080/",
     "height": 1000
    },
    "execution": {
     "iopub.execute_input": "2021-12-28T14:15:59.572381Z",
     "iopub.status.busy": "2021-12-28T14:15:59.571844Z",
     "iopub.status.idle": "2021-12-28T14:16:03.671220Z",
     "shell.execute_reply": "2021-12-28T14:16:03.671680Z",
     "shell.execute_reply.started": "2021-12-28T12:41:14.230907Z"
    },
    "executionInfo": {
     "elapsed": 2464,
     "status": "ok",
     "timestamp": 1642796533584,
     "user": {
      "displayName": "Michele Russo",
      "photoUrl": "https://lh3.googleusercontent.com/a-/AOh14GhyAOV7v4rD3SsSLhmGKIAPUCp5S_U_b_Max0XoRw=s64",
      "userId": "05058015320206708993"
     },
     "user_tz": -60
    },
    "id": "9bf8ffab",
    "outputId": "634afa42-3869-4af7-f42e-210f8f46f3a1",
    "papermill": {
     "duration": 4.125449,
     "end_time": "2021-12-28T14:16:03.671823",
     "exception": false,
     "start_time": "2021-12-28T14:15:59.546374",
     "status": "completed"
    },
    "tags": []
   },
   "outputs": [
    {
     "name": "stdout",
     "output_type": "stream",
     "text": [
      "Model: \"model\"\n",
      "_________________________________________________________________\n",
      " Layer (type)                Output Shape              Param #   \n",
      "=================================================================\n",
      " Input (InputLayer)          [(None, 100, 7)]          0         \n",
      "                                                                 \n",
      " bidirectional (Bidirectiona  (None, 100, 128)         28032     \n",
      " l)                                                              \n",
      "                                                                 \n",
      " conv1d (Conv1D)             (None, 100, 64)           24640     \n",
      "                                                                 \n",
      " max_pooling1d (MaxPooling1D  (None, 50, 64)           0         \n",
      " )                                                               \n",
      "                                                                 \n",
      " bidirectional_1 (Bidirectio  (None, 50, 256)          148992    \n",
      " nal)                                                            \n",
      "                                                                 \n",
      " conv1d_1 (Conv1D)           (None, 50, 128)           196736    \n",
      "                                                                 \n",
      " max_pooling1d_1 (MaxPooling  (None, 25, 128)          0         \n",
      " 1D)                                                             \n",
      "                                                                 \n",
      " bidirectional_2 (Bidirectio  (None, 25, 512)          592896    \n",
      " nal)                                                            \n",
      "                                                                 \n",
      " conv1d_2 (Conv1D)           (None, 25, 256)           1573120   \n",
      "                                                                 \n",
      " global_average_pooling1d (G  (None, 256)              0         \n",
      " lobalAveragePooling1D)                                          \n",
      "                                                                 \n",
      " dropout (Dropout)           (None, 256)               0         \n",
      "                                                                 \n",
      " dense (Dense)               (None, 336)               86352     \n",
      "                                                                 \n",
      " reshape (Reshape)           (None, 48, 7)             0         \n",
      "                                                                 \n",
      " conv1d_3 (Conv1D)           (None, 48, 7)             56        \n",
      "                                                                 \n",
      "=================================================================\n",
      "Total params: 2,650,824\n",
      "Trainable params: 2,650,824\n",
      "Non-trainable params: 0\n",
      "_________________________________________________________________\n"
     ]
    },
    {
     "data": {
      "image/png": "[encoded data removed]",
      "text/plain": [
       "<IPython.core.display.Image object>"
      ]
     },
     "execution_count": 11,
     "metadata": {},
     "output_type": "execute_result"
    }
   ],
   "source": [
    "model = build_model(input_shape, output_shape)\n",
    "model.summary()\n",
    "tfk.utils.plot_model(model)"
   ]
  },
  {
   "cell_type": "code",
   "execution_count": null,
   "id": "9ef562c2",
   "metadata": {
    "execution": {
     "iopub.execute_input": "2021-12-28T14:16:03.728401Z",
     "iopub.status.busy": "2021-12-28T14:16:03.721219Z",
     "iopub.status.idle": "2021-12-28T14:17:53.530517Z",
     "shell.execute_reply": "2021-12-28T14:17:53.530010Z",
     "shell.execute_reply.started": "2021-12-28T12:41:16.484579Z"
    },
    "id": "9ef562c2",
    "papermill": {
     "duration": 109.835272,
     "end_time": "2021-12-28T14:17:53.530645",
     "exception": false,
     "start_time": "2021-12-28T14:16:03.695373",
     "status": "completed"
    },
    "tags": []
   },
   "outputs": [],
   "source": [
    "# Train the model\n",
    "history = model.fit(\n",
    "    x = X_train,\n",
    "    y = y_train,\n",
    "    batch_size = batch_size,\n",
    "    epochs = epochs,\n",
    "    validation_split=.1,\n",
    "    callbacks = [\n",
    "        tfk.callbacks.ReduceLROnPlateau(monitor='val_loss', mode='min', patience=5, factor=0.5, min_lr=1e-5)\n",
    "    ]\n",
    ").history"
   ]
  },
  {
   "cell_type": "markdown",
   "id": "fda6608a",
   "metadata": {
    "id": "fda6608a",
    "papermill": {
     "duration": 0.471253,
     "end_time": "2021-12-28T14:17:54.465105",
     "exception": false,
     "start_time": "2021-12-28T14:17:53.993852",
     "status": "completed"
    },
    "tags": []
   },
   "source": [
    "### Save the model"
   ]
  },
  {
   "cell_type": "code",
   "execution_count": null,
   "id": "3fc83a1d",
   "metadata": {
    "execution": {
     "iopub.execute_input": "2021-12-28T14:17:55.673997Z",
     "iopub.status.busy": "2021-12-28T14:17:55.670465Z",
     "iopub.status.idle": "2021-12-28T14:18:32.912106Z",
     "shell.execute_reply": "2021-12-28T14:18:32.911554Z",
     "shell.execute_reply.started": "2021-12-28T12:41:38.021568Z"
    },
    "id": "3fc83a1d",
    "papermill": {
     "duration": 37.982673,
     "end_time": "2021-12-28T14:18:32.912258",
     "exception": false,
     "start_time": "2021-12-28T14:17:54.929585",
     "status": "completed"
    },
    "tags": []
   },
   "outputs": [],
   "source": [
    "model.save(\"ModelD.hdf5\")"
   ]
  }
 ],
 "metadata": {
  "colab": {
   "collapsed_sections": [],
   "name": "Model.ipynb",
   "provenance": []
  },
  "kernelspec": {
   "display_name": "Python 3 (ipykernel)",
   "language": "python",
   "name": "python3"
  },
  "language_info": {
   "codemirror_mode": {
    "name": "ipython",
    "version": 3
   },
   "file_extension": ".py",
   "mimetype": "text/x-python",
   "name": "python",
   "nbconvert_exporter": "python",
   "pygments_lexer": "ipython3",
   "version": "3.8.5"
  },
  "papermill": {
   "default_parameters": {},
   "duration": 173.51697,
   "end_time": "2021-12-28T14:18:36.949662",
   "environment_variables": {},
   "exception": null,
   "input_path": "__notebook__.ipynb",
   "output_path": "__notebook__.ipynb",
   "parameters": {},
   "start_time": "2021-12-28T14:15:43.432692",
   "version": "2.3.3"
  }
 },
 "nbformat": 4,
 "nbformat_minor": 5
}
